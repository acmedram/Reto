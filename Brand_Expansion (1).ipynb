{
  "nbformat": 4,
  "nbformat_minor": 0,
  "metadata": {
    "colab": {
      "name": "Brand Expansion.ipynb",
      "provenance": [],
      "collapsed_sections": []
    },
    "kernelspec": {
      "display_name": "Python 3",
      "name": "python3"
    }
  },
  "cells": [
    {
      "cell_type": "markdown",
      "metadata": {
        "id": "s15iivgVGsY3"
      },
      "source": [
        "# **Brand Expansion - Colombia**\n",
        "## BeerTrotters_COL\n",
        "\n",
        "\n",
        "Brand Expansion esta relacionado con el proceso de introduccir un producto a un mercado o area. En este reto se busca determinar la probalidad que un cliente compre un determinado producto en el siguiente mes, conocer esta información es de suma importancia para el negocio ya que permite crear estrategias para impulsar, mantener o frenar el producto, con el fin de matener el status de la marca."
      ]
    },
    {
      "cell_type": "markdown",
      "metadata": {
        "id": "Z0U8p3nvKblw"
      },
      "source": [
        "# **Imports** "
      ]
    },
    {
      "cell_type": "code",
      "metadata": {
        "id": "XkgJ2kTPdCQw"
      },
      "source": [
        "#Imports-preparacion \n",
        "\n",
        "import pandas as pd\n",
        "import numpy as np\n",
        "import datetime\n",
        "import matplotlib.pyplot as plt\n",
        "import seaborn as sb\n",
        "import dateutil.relativedelta\n",
        "from scipy.stats import linregress\n",
        "import math\n",
        "%matplotlib inline\n",
        "\n",
        "#Imports-Machine learning \n",
        "from sklearn import linear_model\n",
        "from sklearn import model_selection\n",
        "from sklearn.metrics import classification_report\n",
        "from sklearn.metrics import confusion_matrix\n",
        "from sklearn.metrics import accuracy_score\n",
        "from sklearn.ensemble import RandomForestClassifier\n",
        "from sklearn.preprocessing import StandardScaler, MinMaxScaler\n",
        "from sklearn import metrics\n",
        "from sklearn.metrics import roc_auc_score\n",
        "import pickle\n",
        "from sklearn.model_selection import GridSearchCV\n",
        "from sklearn.model_selection import ParameterGrid\n",
        "import multiprocessing\n",
        "from sklearn.model_selection import RepeatedKFold\n",
        "from sklearn.ensemble import GradientBoostingClassifier"
      ],
      "execution_count": 1,
      "outputs": []
    },
    {
      "cell_type": "markdown",
      "metadata": {
        "id": "x6pzMxW9KJtk"
      },
      "source": [
        "# **Definicion de funciones** "
      ]
    },
    {
      "cell_type": "code",
      "metadata": {
        "id": "t60LZ2-Jh-bk"
      },
      "source": [
        "#Funcion para calculo de pendiente.\n",
        "\n",
        "def get_slope(array):\n",
        "  '''\n",
        "    retorna la pendiente de un array indicado \n",
        "\n",
        "    Parameters:\n",
        "        array: array de valores para calcular la pendiente.\n",
        "\n",
        "    Returns:\n",
        "        slope: pendiente.\n",
        "    '''\n",
        "\n",
        "  y = np.array(array)\n",
        "  x = np.arange(len(y))\n",
        "  slope, intercept, r_value, p_value, std_err = linregress(x,y)\n",
        "  return slope"
      ],
      "execution_count": 2,
      "outputs": []
    },
    {
      "cell_type": "code",
      "metadata": {
        "id": "kpDSN7ssA9xt"
      },
      "source": [
        "def base_slope(df,fecha_prediccion,periodo):\n",
        "\n",
        "    '''\n",
        "    retorna la pendiente del volumen de compra por cliente dado un perido y fecha de predicción.\n",
        "\n",
        "    Parameters:\n",
        "        df: Base de datos donde se encuentra la variable Volumen.\n",
        "        fecha_prediccion: Fecha corte del mes que se desea predecir (Ejemplo : '2020-08-01')\n",
        "        periodo : Meses que se desean agrupar.\n",
        "\n",
        "    Returns:\n",
        "        slope: pendiente de la variable volumen por cliente en el periodo dado.\n",
        "    '''\n",
        "\n",
        "  fecha_fin=pd.to_datetime(fecha_prediccion) - dateutil.relativedelta.relativedelta(months=1)  \n",
        "  fecha_inicio = pd.to_datetime(fecha_prediccion) - dateutil.relativedelta.relativedelta(months=periodo)  \n",
        "  df= df[(df['Fecha']<=pd.to_datetime(fecha_fin))&(df['Fecha']>=pd.to_datetime(fecha_inicio))]\n",
        "  df=df[['Cliente','Fecha','volumen_cliente']]\n",
        "  df.sort_values(['Cliente','Fecha'],inplace=True)\n",
        "  slope=df.groupby(['Cliente'])['volumen_cliente'].apply(get_slope)\n",
        "  slope=slope.reset_index()\n",
        "  slope.columns = ['Cliente',\t'slope']\n",
        "  slope.fillna(0, inplace=True)\n",
        "\n",
        "  return slope"
      ],
      "execution_count": 3,
      "outputs": []
    },
    {
      "cell_type": "code",
      "metadata": {
        "id": "H4CZ81y8fa5z"
      },
      "source": [
        "def base_periodo(df,fecha_prediccion,meses, estadisticas):\n",
        "\n",
        "      '''\n",
        "    retorna la Base agrupada por meses indicados , usando estadisticas definidas para la agrupación. \n",
        "\n",
        "    Parameters:\n",
        "        df: Base para agrupar.\n",
        "        fecha_prediccion: Fecha corte del mes que se desea predecir (Ejemplo : '2020-08-01')\n",
        "        periodo : Meses que se desean agrupar.\n",
        "        estadisticas : Lista de estadisticas\n",
        "\n",
        "    Returns:\n",
        "        base_perido_final: Base agrupada de variables por las estadisticas indicadas y el periodo dado.\n",
        "    '''\n",
        "\n",
        "  fecha_fin=pd.to_datetime(fecha_prediccion) - dateutil.relativedelta.relativedelta(months=1)  \n",
        "  fecha_inicio = pd.to_datetime(fecha_prediccion) - dateutil.relativedelta.relativedelta(months=meses)  \n",
        "  df= df[(df['Fecha']<=pd.to_datetime(fecha_fin))&(df['Fecha']>=pd.to_datetime(fecha_inicio))]\n",
        "  \n",
        "  columns = df.columns.to_list()\n",
        "  columns.remove('Cliente')\n",
        "  columns.remove('Fecha') \n",
        "  \n",
        "  agg_group ={}\n",
        "  for i in columns :\n",
        "    key=i\n",
        "    agg_group[key] = estadisticas\n",
        "  \n",
        "  agg_group['Fecha'] =['nunique']\n",
        "\n",
        "  base_periodo = df.groupby(['Cliente']).agg(agg_group).reset_index()\n",
        "  periodo_str='_'+str(meses)+'_'\n",
        "  base_periodo.columns = [periodo_str.join(col) for col in base_periodo.columns]\n",
        "  columns_name={}\n",
        "  name='Cliente'+periodo_str\n",
        "  columns_name[name] ='Cliente'\n",
        "  base_periodo.rename(columns=columns_name, inplace=True)\n",
        "\n",
        "  slope = base_slope(grouped_cliente,fecha_prediccion,meses)\n",
        "  base_perido_final = pd.merge(base_periodo, slope, left_on=['Cliente'], right_on=['Cliente'],how='left')\n",
        "  \n",
        "  name_slope='slope_'+str(meses)\n",
        "\n",
        "  base_perido_final.rename(columns={'slope': name_slope}, inplace=True)\n",
        "\n",
        "  return base_perido_final"
      ],
      "execution_count": 4,
      "outputs": []
    },
    {
      "cell_type": "code",
      "metadata": {
        "id": "YVKmAdHqmYk9"
      },
      "source": [
        "def marge_bases(clientes_df,df_agg1,df_agg2,df_agg3,key,how):\n",
        "\n",
        "        '''\n",
        "    retorna la base train final \n",
        "\n",
        "    Parameters:\n",
        "        clientes_df: Listado y caractaristicas por cliente.\n",
        "        df_agg1: Base agrupada 1 (Largo plazo 12 meses).\n",
        "        df_agg2 :Base agrupada 2 (Largo plazo 6 meses).\n",
        "        df_agg3 :Base agrupada 3 (Largo plazo 3 meses).\n",
        "        key : key de union\n",
        "        how : how de union\n",
        "\n",
        "    Returns:\n",
        "        base_marge: Base final.\n",
        "    '''\n",
        "\n",
        "  base_marge = pd.merge(clientes_df, df_agg1, left_on=[key], right_on=[key],how=how)\n",
        "  base_marge = pd.merge(base_marge, df_agg2, left_on=[key], right_on=[key],how=how)\n",
        "  base_marge = pd.merge(base_marge, df_agg3, left_on=[key], right_on=[key],how=how)\n",
        "  base_marge.fillna(0, inplace=True)\n",
        "  base_marge.set_index('Cliente' , inplace = True)\n",
        "\n",
        "  return base_marge"
      ],
      "execution_count": 5,
      "outputs": []
    },
    {
      "cell_type": "code",
      "metadata": {
        "id": "8SCNxid8EGyh"
      },
      "source": [
        "def base_target(df, fecha_prediccion):\n",
        "\n",
        "        '''\n",
        "    retorna la base target , con la variable a predecir segun la fecha de prediccion \n",
        "\n",
        "    Parameters:\n",
        "        df: Listado y caractaristicas por cliente.\n",
        "        fecha_prediccion:Fecha corte del mes que se desea predecir (Ejemplo : '2020-08-01')\n",
        "\n",
        "    Returns:\n",
        "        base_target: base target. '''\n",
        "\n",
        "  base_target = df[df['Fecha']==pd.to_datetime(fecha_prediccion)]\n",
        "  base_target = base_target[['Cliente','Marca']]\n",
        "  base_target = pd.get_dummies(base_target)\n",
        "  \n",
        "  columns_t = base_target.columns.to_list()\n",
        "  columns_t.remove('Cliente') \n",
        "  \n",
        "  estadisticas_t = ['sum']\n",
        "  \n",
        "  agg_group_train ={}\n",
        "  \n",
        "  for i in columns_t :\n",
        "    key=i\n",
        "    agg_group_train[key] = estadisticas_t\n",
        "  \n",
        "  base_target = base_target.groupby(['Cliente']).agg(agg_group_train).reset_index()\n",
        "  base_target.columns = ['_'.join(col) for col in base_target.columns]\n",
        "  base_target.rename(columns={'Cliente_': 'Cliente'}, inplace=True)\n",
        "  clientes=clientes_df_dummies[['Cliente']]\n",
        "  base_target = pd.merge(clientes, base_target, left_on=['Cliente'], right_on=['Cliente'],how='left')\n",
        "  base_target.fillna(0, inplace=True)\n",
        "  base_target.set_index('Cliente' , inplace = True)\n",
        "\n",
        "  base_target.rename(columns={'Marca_M_20-C_3-CE_9_sum': 'M_20-C_3-CE_9', \n",
        "                              'Marca_M_16-C_2-CE_10_sum':'M_16-C_2-CE_10',\n",
        "                               'Marca_M_9-C_3-CE_12_sum':'M_9-C_3-CE_12',\n",
        "                               'Marca_M_38-C_2-CE_10_sum':'M_38-C_2-CE_10',\n",
        "                                'Marca_M_39-C_2-CE_10_sum':'M_39-C_2-CE_10'\n",
        "                        }, inplace=True)\n",
        "\n",
        "  return base_target"
      ],
      "execution_count": 6,
      "outputs": []
    },
    {
      "cell_type": "code",
      "metadata": {
        "id": "ualYupEhzD6b"
      },
      "source": [
        "def scaler_X(df):\n",
        "  scaler = StandardScaler()\n",
        "  X_scaled = scaler.fit_transform(df)\n",
        "  return X_scaled"
      ],
      "execution_count": 7,
      "outputs": []
    },
    {
      "cell_type": "markdown",
      "metadata": {
        "id": "2Z36BvXRKqx-"
      },
      "source": [
        "# **Datasets** \n",
        "\n",
        "**input1_clientes_estructura.** = Tabla de clientes con las características de su punto de venta y ubicación.\n",
        "\n",
        "*  Cliente : Id del Establecimiento (Llave primaria)\n",
        "*  Regional2: Región donde se encuentra ubicado (Conjunto de departamentos)\n",
        "*  Gerencia2: Gerencia que le distribuye el producto (Conjunto de 1, 2 o mas ciudades)\n",
        "*  SubCanal2: Tipo de establecimiento: (Tienda, Bar, etc)\n",
        "*  Categoria: Variable definida por AB-Inbev para calificar la importancia de un establecimiento dada su compra histórica.\n",
        "*  Nevera: Variable dummie que me permite ver si el establecimiento tiene o no una nevera en su punto de venta.\n",
        "\n",
        "**input2_clientes_venta** = Base de historia de compra por marca-cupo-capacidad_envase por establecimiento, de los últimos meses.\n",
        "\n",
        "*   Año en el que se realiza la compra\n",
        "*   Mes en el que se realiza la compra\n",
        "*   Cliente: Id del establecimiento\n",
        "*   SegmentoPrecio2: Categoría de la marca, dado el ingreso por litro a la compañía.\n",
        "*   Marca2: Marca vendida.\n",
        "*   Cupo2: Tipo de envase de la marca vendida.\n",
        "*   CapacidadEnvase2: Capacidad en volumen, de la Marca2-Cupo2 vendido.\n",
        "*   Volumen: Cantidad de volumen vendido de la Marca-Cupo2-CapacidadEnvase2.\n",
        "*   disc: Descuentos otorgados al establecimiento por la compra\n",
        "*   nr: NetRevenue que dejó la venta a la compañía.\n",
        "\n"
      ]
    },
    {
      "cell_type": "code",
      "metadata": {
        "id": "H_1g3qDSdE9e"
      },
      "source": [
        "# Bases\n",
        "clientes_df = pd.read_csv(\"/content/drive/My Drive/Input1_clientes_estructura.csv\", sep =';')\n",
        "ventas_df = pd.read_csv(\"/content/drive/My Drive/Input2_clientes_venta.csv\", sep =';')\n",
        "base_pred= pd.read_csv(\"/content/drive/My Drive/Input3_clientes_test.csv\", sep=\";\")"
      ],
      "execution_count": 33,
      "outputs": []
    },
    {
      "cell_type": "markdown",
      "metadata": {
        "id": "FrXbwO0EMNGD"
      },
      "source": [
        "# **Data preparation** \n",
        "\n",
        "Con el fin de lograr el objetivo del reto, la preparación de datos se enfoco principalmente en la creación de variables enriquecidas buscando extrater la mayor cantidad de informacion de los datasets.\n",
        "\n",
        "## Dataset de ventas"
      ]
    },
    {
      "cell_type": "code",
      "metadata": {
        "id": "eR3gaTk4fgZV"
      },
      "source": [
        "# Con el fin de facilitar el manejor de la variables se remplaza en las columas de Marca2, Cupo2 y CapacidadEnvase2 las palabras de Marca, Cupo y CapacidadEnvase2  por M , C Y CE.   \n",
        "ventas_df.replace({'Marca2': r'^Marca','Cupo2': r'^Cupo','CapacidadEnvase2': r'^CapacidadEnvase'}\n",
        "                  , {'Marca2': 'M', 'Cupo2':'C','CapacidadEnvase2':'CE'}, regex=True,inplace=True)\n",
        "\n",
        "# A partir de las columnas de Año y Mes se crea una variable tipo fecha, esto para facilitar el desarrollo de agrupaciones dentro de la base.\n",
        "ventas_df['Fecha'] = pd.to_datetime(ventas_df['Año'].astype(str)+ ventas_df['Mes'].apply(lambda x: '0'+str(x) if x<=9 else str(x)) +'01')\n",
        "\n",
        "# A partir de las columnas de Marca2 , Cupo2, CapacidadEnvase2 se crea una varible denominada marca que hace referencia a un determinado producto.\n",
        "ventas_df['Marca'] = ventas_df['Marca2']+'-'+ventas_df['Cupo2']+'-'+ventas_df['CapacidadEnvase2']\n",
        "\n",
        "# Se borra las variables utilizadas anteriormente en la creacion de las variables enriquecidad iniciales.\n",
        "ventas_df.drop(columns=['Año','Mes','Marca2','Cupo2','CapacidadEnvase2'], inplace=True)"
      ],
      "execution_count": 34,
      "outputs": []
    },
    {
      "cell_type": "code",
      "metadata": {
        "id": "-PydnOhxxs0t"
      },
      "source": [
        "# Se eliminan las marcas con apariciones dentro de la base menores a la mediana.\n",
        "marcas_minimas =pd.DataFrame(ventas_df.groupby(['Marca'])['Marca'].count().sort_values())\n",
        "marcas_minimas.columns=['Cantidad']\n",
        "marcas_minimas.reset_index(inplace=True)\n",
        "marcas= marcas_minimas[marcas_minimas['Cantidad']>=2098]['Marca'].to_list()\n",
        "ventas_df=ventas_df[ventas_df['Marca'].isin(marcas)]"
      ],
      "execution_count": 59,
      "outputs": []
    },
    {
      "cell_type": "code",
      "metadata": {
        "colab": {
          "base_uri": "https://localhost:8080/"
        },
        "id": "uKF5buPUza3v",
        "outputId": "fff80d27-a58d-429a-9f2b-a2f628c973dc"
      },
      "source": [
        "ventas_df.shape"
      ],
      "execution_count": 60,
      "outputs": [
        {
          "output_type": "execute_result",
          "data": {
            "text/plain": [
              "(1381109, 8)"
            ]
          },
          "metadata": {
            "tags": []
          },
          "execution_count": 60
        }
      ]
    },
    {
      "cell_type": "markdown",
      "metadata": {
        "id": "rUHAHNhLQDoZ"
      },
      "source": [
        "# Agrupacion de ventas mensuales por cliente.\n",
        "\n",
        "Se determina a manera general el nivel de ventas que ha exitido por mes y por cliente.[link text](https://)"
      ]
    },
    {
      "cell_type": "code",
      "metadata": {
        "id": "GEI4KsAJf_bW"
      },
      "source": [
        "# Se detetermina por cliente y fecha la cantidad total de volumen, valor y los distintos productos.\n",
        "grouped_cliente = ventas_df.groupby(['Cliente','Fecha']).agg({'Volumen': ['sum'],'disc': ['sum'],'nr': ['sum'],'Marca':['nunique']}).reset_index()\n",
        "\n",
        "# Se renombra las columnas.\n",
        "grouped_cliente.columns = ['Cliente','Fecha','volumen_cliente','descuento_cliente','valor_cliente','distinct_marca_cliente']"
      ],
      "execution_count": 61,
      "outputs": []
    },
    {
      "cell_type": "markdown",
      "metadata": {
        "id": "2Nd4jh-kUyas"
      },
      "source": [
        "# Agrupacion de ventas mensuales por cliente y producto.\n",
        "\n",
        "Se determina por producto el nivel de ventas por mes y cliente, de igual manera se establece la diferencia mensula de compra\n"
      ]
    },
    {
      "cell_type": "code",
      "metadata": {
        "id": "Wvny6ADugEG-"
      },
      "source": [
        "# Se detetermina por cliente, producto  y fecha la cantidad total de volumen, valor.\n",
        "grouped_cliente_marca = ventas_df.groupby(['Cliente','Fecha', 'Marca']).agg({'Volumen': ['sum'],'disc': ['sum'],'nr': ['sum']}).reset_index()\n",
        "\n",
        "# Se renombra las columnas.\n",
        "grouped_cliente_marca.columns = ['Cliente','Fecha','Marca','volumen_marca','descuento_marca','valor_marca']\n",
        "\n",
        "# Se determina la diferencia del volumen con respescto al mes anterior.\n",
        "grouped_cliente_marca.sort_values(['Cliente','Fecha','Marca'],inplace=True)\n",
        "grouped_cliente_marca['diff_vol_marca']=grouped_cliente_marca.groupby(['Cliente','Marca'])['volumen_marca'].transform(pd.Series.diff).fillna(grouped_cliente_marca['volumen_marca'])\n",
        "grouped_cliente_marca['ant_volumen_marca']=grouped_cliente_marca.groupby(['Cliente','Marca'])['volumen_marca'].shift(1)"
      ],
      "execution_count": 62,
      "outputs": []
    },
    {
      "cell_type": "markdown",
      "metadata": {
        "id": "78D9gfZ7XvFv"
      },
      "source": [
        "## Ventas enriquecidas\n",
        "\n",
        "Se crean variables enriquecidad con el fin de maximizar la extraccion de informacion del dataset de ventas."
      ]
    },
    {
      "cell_type": "code",
      "metadata": {
        "id": "bi8MhzBAXoNu"
      },
      "source": [
        "# merge de los Dataframes contruidos anteriormente.\n",
        "\n",
        "ventas_df_enr = pd.merge(grouped_cliente, grouped_cliente_marca, left_on=['Cliente','Fecha'], right_on=['Cliente','Fecha'], how=\"left\")"
      ],
      "execution_count": 63,
      "outputs": []
    },
    {
      "cell_type": "code",
      "metadata": {
        "id": "B0YNXqR_YW_x"
      },
      "source": [
        "# Construcción de variables enriquecidas.\n",
        "\n",
        "# Porcentaje de volumen del producto por el total del cliente.\n",
        "ventas_df_enr['p_vol'] =ventas_df_enr['volumen_marca']/ventas_df_enr['volumen_cliente']\n",
        "\n",
        "# Porcentaje de descuento del producto por el total del cliente.\n",
        "ventas_df_enr['p_desc'] =ventas_df_enr['descuento_marca']/ventas_df_enr['descuento_cliente']\n",
        "\n",
        "# Porcentaje de valor del producto por el total del cliente.\n",
        "ventas_df_enr['p_valor'] =ventas_df_enr['valor_marca']/ventas_df_enr['valor_cliente']\n",
        "\n",
        "# Porcentaje de variacion del volumen de producto con respecto a mes anterior.\n",
        "ventas_df_enr['p_variacion'] = (ventas_df_enr['diff_vol_marca']/ventas_df_enr['ant_volumen_marca']).apply(lambda x: 0 if x==math.inf else x)\n",
        "\n",
        "# Se eliminan las variables utilizadas anteriormente.\n",
        "ventas_df_enr.drop(columns=['volumen_marca','descuento_marca','valor_marca','diff_vol_marca','ant_volumen_marca'], inplace=True)"
      ],
      "execution_count": 64,
      "outputs": []
    },
    {
      "cell_type": "markdown",
      "metadata": {
        "id": "dxX_DDjRcG_t"
      },
      "source": [
        "## One-hot encoding\n",
        "\n",
        "Se crean varables por cada producto, ya que el consumo de un determinado producto puede estar influenciado por el consumo de los otros productos de portafolio. Tambien se crean variables dummies a parir de el dataset que contiene las caracteristicas de cada cliente.*italicized text* "
      ]
    },
    {
      "cell_type": "code",
      "metadata": {
        "id": "SIJQ1TNQdR5_"
      },
      "source": [
        "# Se hace un pivot sobre el dataframe ventas_df_enr, manteniendo los valores de Cliente ,Fecha,volumen_cliente,descuento_cliente,valor_cliente,distinct_marca_cliente\n",
        "#Obteniendo una fila por cliente al mes.\n",
        "ventas_df_encoding= pd.pivot_table(ventas_df_enr, values=['p_vol','p_desc','p_valor','p_variacion'], \n",
        "                                                  index=['Cliente','Fecha','volumen_cliente','descuento_cliente','valor_cliente','distinct_marca_cliente'],\n",
        "                                                  columns=['Marca'], aggfunc=np.mean).reset_index()\n",
        "\n",
        "#Se renobran las columas del dataframe.\n",
        "ventas_df_encoding.columns = ['_'.join(col) for col in ventas_df_encoding.columns]\n",
        "ventas_df_encoding.rename(columns={'Cliente_': 'Cliente', \n",
        "                        'Fecha_': 'Fecha',\n",
        "                        'volumen_cliente_':'volumen_cliente',\n",
        "                        'descuento_cliente_':'descuento_cliente',\n",
        "                        'valor_cliente_':'valor_cliente',\n",
        "                        'distinct_marca_cliente_':'distinct_marca_cliente'}, inplace=True)\n",
        "\n",
        "# Los valores nulos se imputan con cero ya que si el valor es nulo el cliente no realizo la compra.\n",
        "ventas_df_encoding.fillna(0, inplace=True)"
      ],
      "execution_count": 65,
      "outputs": []
    },
    {
      "cell_type": "code",
      "metadata": {
        "id": "n6Ip_H9-epCI"
      },
      "source": [
        "# Creacion de variables dummies de clientes\n",
        "\n",
        "clientes_df_dummies = pd.get_dummies(clientes_df)"
      ],
      "execution_count": 66,
      "outputs": []
    },
    {
      "cell_type": "markdown",
      "metadata": {
        "id": "HXFQENo9en-r"
      },
      "source": [
        "## Agrupación de variables por periodos\n",
        "\n",
        "Para caterizar el comporamiento de compra del cliente a corto, mediano y largo plazo se agrupo las variable en 3, 6, y 12 meses segun el mes que se quisiera predecir.\n"
      ]
    },
    {
      "cell_type": "code",
      "metadata": {
        "colab": {
          "base_uri": "https://localhost:8080/"
        },
        "id": "qq-0XJofhH1B",
        "outputId": "aedad95f-4868-4b5d-a840-b3b4fac19d47"
      },
      "source": [
        "#Estadisticos de agrupación.\n",
        "estadisticas = ['mean','median']\n",
        "\n",
        "#Bases agrupadas por periodo para predecir agosto\n",
        "ult_3_meses_ago= base_periodo(ventas_df_encoding,'2020-08-01',3, estadisticas)\n",
        "ult_6_meses_ago= base_periodo(ventas_df_encoding,'2020-08-01',6, estadisticas)\n",
        "ult_12_meses_ago= base_periodo(ventas_df_encoding,'2020-08-01',12, estadisticas)\n",
        "\n",
        "#Bases agrupadas por periodo para predecir septiembre\n",
        "ult_3_meses_sep= base_periodo(ventas_df_encoding,'2020-09-01',3, estadisticas)\n",
        "ult_6_meses_sep= base_periodo(ventas_df_encoding,'2020-09-01',6, estadisticas)\n",
        "ult_12_meses_sep= base_periodo(ventas_df_encoding,'2020-09-01',12, estadisticas)"
      ],
      "execution_count": 67,
      "outputs": [
        {
          "output_type": "stream",
          "text": [
            "/usr/local/lib/python3.6/dist-packages/scipy/stats/_stats_mstats_common.py:130: RuntimeWarning: invalid value encountered in double_scalars\n",
            "  slope = r_num / ssxm\n",
            "/usr/local/lib/python3.6/dist-packages/scipy/stats/_stats_mstats_common.py:140: RuntimeWarning: invalid value encountered in sqrt\n",
            "  t = r * np.sqrt(df / ((1.0 - r + TINY)*(1.0 + r + TINY)))\n",
            "/usr/local/lib/python3.6/dist-packages/scipy/stats/_stats_mstats_common.py:142: RuntimeWarning: invalid value encountered in double_scalars\n",
            "  sterrest = np.sqrt((1 - r**2) * ssym / ssxm / df)\n"
          ],
          "name": "stderr"
        }
      ]
    },
    {
      "cell_type": "code",
      "metadata": {
        "id": "aIJjeijjnkie"
      },
      "source": [
        "base_agos=marge_bases(clientes_df_dummies,ult_12_meses_ago,ult_6_meses_ago,ult_3_meses_ago,'Cliente','left')\n",
        "base_sep=marge_bases(clientes_df_dummies,ult_12_meses_sep,ult_6_meses_sep,ult_3_meses_sep,'Cliente','left')"
      ],
      "execution_count": 69,
      "outputs": []
    },
    {
      "cell_type": "markdown",
      "metadata": {
        "id": "yYFxaumuqsXF"
      },
      "source": [
        "## Contrucción  Variable Target \n",
        "\n",
        "Se determina la compra o no del producto en el mes por cliente"
      ]
    },
    {
      "cell_type": "code",
      "metadata": {
        "id": "UKJQqUEisYC8"
      },
      "source": [
        "target_ago = base_target(ventas_df_enr,'2020-08-01')\n",
        "target_sep = base_target(ventas_df_enr,'2020-09-01')"
      ],
      "execution_count": 70,
      "outputs": []
    },
    {
      "cell_type": "markdown",
      "metadata": {
        "id": "26pWORLIwodd"
      },
      "source": [
        "## Data Modeling\n",
        "\n",
        "Ya con las bases listas, se entrena el modelo que tiene el objetivo de determinar la probalidad que un cliente compre un producto en el siguiente mes."
      ]
    },
    {
      "cell_type": "code",
      "metadata": {
        "id": "y7xiGKqnxzf7"
      },
      "source": [
        "# Lista de productos objetivo \n",
        "productos =[\"M_20-C_3-CE_9\",\"M_16-C_2-CE_10\",\"M_9-C_3-CE_12\",\"M_38-C_2-CE_10\",\"M_39-C_2-CE_10\"]"
      ],
      "execution_count": 71,
      "outputs": []
    },
    {
      "cell_type": "code",
      "metadata": {
        "id": "53E4a7Apy6h2"
      },
      "source": [
        "# Entrenamiento Modelo \n",
        "\n",
        "features_names = base_agos.columns.to_list()\n",
        "\n",
        "#Se normalizan los valores \n",
        "X_scaled = scaler_X(base_agos)\n",
        "\n",
        "# Modelo por cada producto objetivo\n",
        "\n",
        "for i in productos :\n",
        "\n",
        "  # Búsqueda por grid search con validación cruzada\n",
        "  \n",
        "  print('inicio ' + i)\n",
        "  param_grid = {'n_estimators': [200],\n",
        "              'max_features': [10,20,50],\n",
        "              'max_depth'   : [ 3,  20],\n",
        "              'criterion'   : ['entropy']\n",
        "             }\n",
        "  \n",
        "  w = 50\n",
        "  model = GridSearchCV(\n",
        "        estimator  = RandomForestClassifier(class_weight={0: 1, 1: w},random_state = 9),\n",
        "        param_grid = param_grid,\n",
        "        scoring    = 'roc_auc',\n",
        "        n_jobs     = multiprocessing.cpu_count() - 1,\n",
        "        refit      = True,\n",
        "        verbose    = 0,\n",
        "        return_train_score = True)\n",
        "  \n",
        "  # Seleccion variable objetivo\n",
        "  y_base=target_ago[i]\n",
        "  \n",
        "  # división de bases X y Y \n",
        "  print('division' + i)\n",
        "  X_train, X_validation, Y_train, Y_validation = model_selection.train_test_split(X_scaled, y_base, test_size=0.3, random_state=8)\n",
        "  \n",
        " # Entrenamiento\n",
        "  print('modelo' + i)\n",
        "  model.fit(X_train, Y_train)\n",
        "\n",
        "  # AUC del modelo seleccionado por variable\n",
        "  auc = metrics.roc_auc_score(Y_validation, model.predict_proba(X_validation)[:,1])\n",
        "  print(\"AUC: \" + str(i)+\" \"+ str(auc))\n",
        "  print(model.best_params_)\n",
        "  \n",
        "  # Se guarda el modelo en un archivo pickle\n",
        "  with open(\"/content/drive/My Drive/Reto/smodel_B{}.pickle\".format(i), \"wb\") as f:\n",
        "    pickle.dump(model, f)\n",
        "  f.close()"
      ],
      "execution_count": null,
      "outputs": []
    },
    {
      "cell_type": "markdown",
      "metadata": {
        "id": "K66SgGAf0TLo"
      },
      "source": [
        "##Validacion\n",
        "\n",
        "Se valida el modelo con el siguiente mes."
      ]
    },
    {
      "cell_type": "code",
      "metadata": {
        "id": "rlZu-DKY0aQC"
      },
      "source": [
        "# Validacion de modelo\n",
        "\n",
        "#Se normalizan los valores \n",
        "\n",
        "for i in productos: \n",
        "   with open(\"/content/drive/My Drive/Reto/smodel_B{}.pickle\".format(i), \"rb\") as f:\n",
        "     model = pickle.load(f)\n",
        "     \n",
        "     X_scaled = scaler_X(base_sep)\n",
        "     \n",
        "     predicted= model.predict(X_scaled)\n",
        "\n",
        "     auc = roc_auc_score(target_sep[i], model.predict_proba(X_scaled)[:,1])\n",
        "     print(\"AUC: \" + str(i)+\" \"+ str(auc))"
      ],
      "execution_count": null,
      "outputs": []
    },
    {
      "cell_type": "markdown",
      "metadata": {
        "id": "YpwM3yzB6c2P"
      },
      "source": [
        "## output \n",
        "\n",
        "Se toma la base que debe predecir"
      ]
    },
    {
      "cell_type": "code",
      "metadata": {
        "id": "zGNfQMqh6uQ4"
      },
      "source": [
        "# Se extrae el listado de clientes \n",
        "clientes_filtro=base_pred['Cliente'].to_list()\n",
        "clientes_pred= clientes_df_dummies[clientes_df_dummies[\"Cliente\"].isin(clientes_filtro)]\n",
        "\n",
        "# Se crea la base de variables\n",
        "\n",
        "#Bases agrupadas por periodo para predecir agosto\n",
        "ult_3_meses_oct= base_periodo(ventas_df_encoding,'2020-10-01',3, estadisticas)\n",
        "ult_6_meses_oct= base_periodo(ventas_df_encoding,'2020-10-01',6, estadisticas)\n",
        "ult_12_meses_oct= base_periodo(ventas_df_encoding,'2020-10-01',12, estadisticas)\n",
        "\n",
        "#Base de predición\n",
        "base_oct=marge_bases(clientes_pred,ult_12_meses_oct,ult_6_meses_oct,ult_3_meses_oct,'Cliente','left')"
      ],
      "execution_count": null,
      "outputs": []
    },
    {
      "cell_type": "code",
      "metadata": {
        "id": "rOg9yhCr8v18"
      },
      "source": [
        "#Predicción sobre base test\n",
        "\n",
        "# Prediccion por producto objetivo\n",
        "for i in productos: \n",
        "   with open(\"/content/drive/My Drive/Reto/smodel_B{}.pickle\".format(i), \"rb\") as f:\n",
        "     model = pickle.load(f)\n",
        "\n",
        "     #Se normalizan los valores \n",
        "     base=base_oct[features_names]\n",
        "     X_scaled = scaler_X(base)\n",
        "     # Prediccion\n",
        "     base_oct[i]=np.round(model.predict_proba(X_scaled)[:,1],3)\n",
        "base_predic=base_oct[productos]"
      ],
      "execution_count": null,
      "outputs": []
    },
    {
      "cell_type": "code",
      "metadata": {
        "id": "qLYyjVC_9hGQ"
      },
      "source": [
        "# Se renombran las columna\n",
        "base_predic.columns = ['Marca1',\t'Marca2',\t'Marca3',\t'Marca_Inno1',\t'Marca_Inno2']\n",
        "\n",
        "#Se guarda el output\n",
        "base_predic.to_csv(\"/content/drive/My Drive/Reto/outputB.csv\")"
      ],
      "execution_count": null,
      "outputs": []
    }
  ]
}